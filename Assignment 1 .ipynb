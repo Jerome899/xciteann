{
 "cells": [
  {
   "cell_type": "code",
   "execution_count": 4,
   "id": "cb116925",
   "metadata": {},
   "outputs": [],
   "source": [
    "import os"
   ]
  },
  {
   "cell_type": "code",
   "execution_count": null,
   "id": "36598225",
   "metadata": {},
   "outputs": [
    {
     "name": "stdout",
     "output_type": "stream",
     "text": [
      ">>>echo\n",
      "Enter : Hello World\n",
      "Hello World\n",
      ">>>mkdir\n",
      "File Created\n",
      ">>>rm\n",
      "File Removed\n",
      ">>>touch\n",
      ">>>cat\n",
      "All the fules and directories are : ['Assignment 1 .ipynb', 'newfile', '.ipynb_checkpoints', 'Hello Guys']\n"
     ]
    }
   ],
   "source": [
    "while 1!=0:\n",
    "    p=input('>>>')\n",
    "    \n",
    "    if p == 'echo':\n",
    "        a=input(\"Enter : \")\n",
    "        print(a)\n",
    "        \n",
    "    elif p=='mkdir':\n",
    "        os.mkdir('newfile')\n",
    "        print(\"File Created\")\n",
    "        \n",
    "    elif p=='rm':\n",
    "        os.remove('removefile.txt')\n",
    "        print(\"File Removed\")\n",
    "        \n",
    "    elif p=='touch':\n",
    "        def touch(fn,t=None):\n",
    "            os.utime(fn,None)      \n",
    "        touch('newfile')\n",
    "        \n",
    "    elif p == 'cat':\n",
    "        print('All the fules and directories are :',os.listdir('/home/jerome/Documents/ANN Internship'))\n",
    "    \n",
    "        "
   ]
  },
  {
   "cell_type": "code",
   "execution_count": null,
   "id": "17c3c24e",
   "metadata": {},
   "outputs": [],
   "source": []
  },
  {
   "cell_type": "code",
   "execution_count": null,
   "id": "6393296a",
   "metadata": {},
   "outputs": [],
   "source": []
  }
 ],
 "metadata": {
  "kernelspec": {
   "display_name": "Python 3 (ipykernel)",
   "language": "python",
   "name": "python3"
  },
  "language_info": {
   "codemirror_mode": {
    "name": "ipython",
    "version": 3
   },
   "file_extension": ".py",
   "mimetype": "text/x-python",
   "name": "python",
   "nbconvert_exporter": "python",
   "pygments_lexer": "ipython3",
   "version": "3.10.4"
  }
 },
 "nbformat": 4,
 "nbformat_minor": 5
}
