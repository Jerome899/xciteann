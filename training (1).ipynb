{
 "cells": [
  {
   "cell_type": "code",
   "execution_count": 13,
   "id": "218cc426",
   "metadata": {},
   "outputs": [],
   "source": [
    "import numpy as np\n",
    "import tensorflow as tf\n",
    "# import tflearn\n",
    "import random\n",
    "\n",
    "import nltk\n",
    "from nltk.stem.lancaster import LancasterStemmer\n",
    "stemmer = LancasterStemmer()\n",
    "\n",
    "import json\n",
    "import pickle\n",
    "import warnings\n"
   ]
  },
  {
   "cell_type": "code",
   "execution_count": 2,
   "id": "d8a78300",
   "metadata": {},
   "outputs": [],
   "source": [
    "from tensorflow.keras.models import Sequential\n",
    "from tensorflow.keras.layers import Dense,Activation,Dropout\n",
    "from tensorflow.keras.optimizers import SGD"
   ]
  },
  {
   "cell_type": "code",
   "execution_count": 9,
   "id": "6e1500b5",
   "metadata": {},
   "outputs": [],
   "source": [
    "# loading words, classes, documents\n",
    "\n",
    "with open('intents.json') as json_data:\n",
    "    intents = json.load(json_data)\n",
    "    \n",
    "ignore=['!','@','#','$','%','^','&','*','?']\n",
    "words = []\n",
    "classes = []\n",
    "documents = []\n",
    "\n",
    "for intent in intents['intents']:\n",
    "    for pattern in intent['patterns']:\n",
    "        w = nltk.word_tokenize(pattern)\n",
    "        words.extend(w)\n",
    "        documents.append((w, intent['tag']))\n",
    "        if intent['tag'] not in classes:\n",
    "            classes.append(intent['tag'])\n"
   ]
  },
  {
   "cell_type": "code",
   "execution_count": 18,
   "id": "e38a832f",
   "metadata": {},
   "outputs": [
    {
     "name": "stdout",
     "output_type": "stream",
     "text": [
      "121 documents :  [(['Hi', 'there'], 'greeting'), (['How', 'are', 'you'], 'greeting'), (['Is', 'anyone', 'there', '?'], 'greeting'), (['Hey'], 'greeting'), (['Hola'], 'greeting'), (['Hello'], 'greeting'), (['Good', 'day'], 'greeting'), (['Bye'], 'goodbye'), (['See', 'you', 'later'], 'goodbye'), (['Goodbye'], 'goodbye'), (['Nice', 'chatting', 'to', 'you', ',', 'bye'], 'goodbye'), (['Till', 'next', 'time'], 'goodbye'), (['Thanks'], 'thanks'), (['Thank', 'you'], 'thanks'), (['That', \"'s\", 'helpful'], 'thanks'), (['Awesome', ',', 'thanks'], 'thanks'), (['Thanks', 'for', 'helping', 'me'], 'thanks'), (['How', 'you', 'could', 'help', 'me', '?'], 'options'), (['What', 'help', 'you', 'provide', '?'], 'options'), (['How', 'you', 'can', 'be', 'helpful', '?'], 'options'), (['where', 'is', 'order', 'with', 'id', '431B67', '?'], 'order_tracking'), (['track', 'order', '562B78'], 'order_tracking'), (['Where', 'is', 'my', 'order', 'with', 'id', '561A24', '?'], 'order_tracking'), (['order', 'id', '345A23', 'comprises', 'of', '?'], 'order_components'), (['List', 'of', 'components'], 'order_components'), (['where', 'is', 'the', 'order'], 'missing_id'), (['where', 'is', 'my', 'order'], 'missing_id'), (['locate', 'the', 'order'], 'missing_id'), (['Delivery', 'date', 'of', 'order'], 'missing_id'), (['find', 'order', 'location', '32712'], 'Location'), (['What', 'is', 'the', 'Location', 'of', 'order', '23A31', '?'], 'Location'), (['I', 'want', 'an', 'appoitment', 'with', 'Manoj', 'kumar'], 'search_person_by_id'), (['set', 'an', 'appointment', 'with', 'Sujata', 'Nandi'], 'search_person_by_id'), (['Is', 'my', 'appointment', 'fixed', '?'], 'appointment status'), (['Do', 'I', 'have', 'an', 'appointment', 'today', '?'], 'appointment status'), (['Is', 'Sujata', 'Nandi', 'on', 'leave', '?'], 'check_leave'), (['Is', 'Manish', 'Kumar', 'on', 'leave', '?'], 'check_leave'), (['Cost', 'Lowering', 'changes', 'to', 'be', 'made', '?'], 'cost_lowering'), (['what', 'changes', 'could', 'lower', 'cost', '?'], 'cost_lowering'), (['I', 'forgot', 'my', 'Login', 'password', '?'], 'forgot_password'), (['what', 'to', 'do', 'when', 'someone', 'forgets', 'Login', 'password', '?'], 'forgot_password'), (['I', 'forgot', 'my', 'Laptop', 'password'], 'forgot_password'), (['Forgot', 'Wifi', 'password'], 'forgot_password'), (['abx', '@', 'gmail.com'], 'email_id'), (['abc', '@', 'kiit.ac.in'], 'email_id'), (['Find', 'me', 'a', 'manufacturer', 'nearby'], 'manufacturing_problems'), (['I', 'want', 'to', 'know', 'the', 'various', 'departments', 'in', 'this', 'company'], 'search_department'), (['what', 'are', 'challenging', 'events'], 'competitors_in_market'), (['what', 'are', 'the', 'threats', 'in', 'the', 'market'], 'competitors_in_market'), (['Our', 'Target', 'customers'], 'key_customers'), (['who', 'are', 'your', 'key', 'customers'], 'key_customers'), (['What', 'information', 'is', 'shared', 'with', 'supplier', '?'], 'supplier_info'), (['What', 'is', 'the', 'highest', 'grossing', 'product', '?'], 'highest_grossing'), (['I', 'want', 'to', 'meet', 'the', 'head', 'of', 'HR/IT/Projects', 'department'], 'connect_people'), (['I', 'want', 'to', 'meet', 'head', 'IT', 'Rakesh', 'sharma', '.'], 'connect_people'), (['complaint', 'has', 'been', 'raised', 'for', 'Insufficient', 'Team', 'Skills'], 'project_handling_queries'), (['Miscommunication', 'Conflicts', 'needs', 'to', 'be', 'resolved'], 'project_handling_queries'), (['Risk', 'Management', 'issue', 'has', 'occured'], 'project_handling_queries'), (['skilled', 'employees', 'needed', 'urgently'], 'project_handling_queries'), (['Lack', 'of', 'product', 'clarity'], 'solve_problems'), (['the', 'specifications', 'of', 'product', 'is', 'not', 'clear', 'to', 'customer', '.', 'what', 'should', 'we', 'do'], 'solve_problems'), (['user', 'needs', 'the', 'updated', 'software', 'version'], 'version_update'), (['user', 'demands', 'software', 'updation'], 'version_update'), (['problem', 'related', 'to', 'Job', 'design', 'and', 'analysis'], 'HR_related_problem'), (['query', 'based', 'on', 'Workforce', 'planning'], 'HR_related_problem'), (['Training', 'and', 'development', 'issues', 'are', 'to', 'be', 'handled'], 'HR_related_problem'), (['Compensation', 'and', 'benefits', 'of', 'the', 'working', 'employee'], 'HR_related_problem'), (['Legal', 'issues', 'of', 'department', 'like', 'accidents', 'in', 'the', 'company'], 'HR_related_problem'), (['Impact', 'on', 'sale', '?'], 'factors_impacting_sale'), (['factors', 'impacting', 'sale', 'this', 'year', '?'], 'factors_impacting_sale'), (['how', 'have', 'we', 'improved', 'our', 'sale', 'from', 'last', 'year', '?'], 'predict_performance'), (['what', 'is', 'the', 'profit', 'this', 'year', '?'], 'predict_performance'), (['how', 'was', 'the', 'customer', 'response'], 'customer_satisfaction'), (['Is', 'the', 'customer', 'happy', '?'], 'customer_satisfaction'), (['what', 'was', 'the', 'customer', 'feedback', '?'], 'customer_satisfaction'), (['maintainence', 'related', 'queries', 'recorded'], 'maintainence'), (['what', 'are', 'the', 'gadgets', 'in', 'stock', '?'], 'gadgets'), (['which', 'products', 'we', 'have', '?'], 'gadgets'), (['what', 'is', 'the', 'Commission', 'rate', '?'], 'commission'), (['Commission', 'rate', 'on', 'each', 'product', '?'], 'commission'), (['Marry', 'me'], 'invalid'), (['I', 'love', 'You'], 'invalid'), (['date', 'me'], 'invalid'), (['chat', 'with', 'me'], 'invalid'), (['I', 'am', 'bored'], 'invalid'), (['why'], 'noans'), (['how'], 'noans'), (['when'], 'noans'), (['I'], 'noans'), (['you'], 'noans'), (['what', 'is', 'the', 'turnover', 'of', 'the', 'company', 'at', 'present', '?'], 'turnover'), (['why', 'is', 'order', '23A12', 'delayed'], 'predict_delay'), (['why', 'is', 'order', '23A12', 'delayed'], 'predict_delay'), (['what', 'is', 'your', 'name', '?'], 'name'), (['what', 'should', 'I', 'call', 'you', '?'], 'name'), (['how', 'you', 'doing', '?'], 'about'), (['how', 'are', 'you'], 'about'), (['How', 'to', 'configure', 'my', 'laptop'], 'configuration'), (['software', 'configuration', 'of', 'laptop'], 'configuration'), (['steps', 'to', 'configure', 'laptop'], 'configuration'), (['How', 'to', 'configure', 'my', 'computer'], 'configuration'), (['software', 'configuration', 'of', 'computer'], 'configuration'), (['steps', 'to', 'configure', 'computer'], 'configuration'), (['How', 'to', 'configure', 'my', 'desktop'], 'configuration'), (['software', 'configuration', 'of', 'desktop'], 'configuration'), (['steps', 'to', 'configure', 'desktop'], 'configuration'), (['what', 'is', 'the', 'weather', 'today', '?'], 'Weather'), (['Is', 'Michel', 'Sharma', 'on', 'leave', '?'], 'leave'), (['Is', 'Siddhart', 'Roy', 'present', 'today', '?'], 'leave'), (['Is', 'Shantanu', 'Bhatt', 'in', 'office', '?'], 'leave'), (['Opening', 'hours', 'of', 'the', 'cafeteria', '?'], 'hours'), (['when', 'does', 'the', 'cafeteria', 'open'], 'hours'), (['office', 'canteen', 'opening', 'time'], 'hours'), (['where', 'is', 'VP', 'cabin', '?'], 'cabin'), (['Where', 'is', 'Head', 'IT', 'cabin', '?'], 'cabin'), (['Where', 'is', 'AI', 'department'], 'cabin'), (['Where', 'is', 'Project', 'head', 'department', '?'], 'cabin'), (['where', 'is', 'cafeteria'], 'cabin'), (['guide', 'me', 'to', 'the', 'canteen'], 'cabin'), (['How', 'to', 'improve', 'team', 'members', 'domain', 'knowledge'], 'domain'), (['improving', 'domain', 'knowledge', 'of', 'team', 'members'], 'domain')]\n",
      "\n",
      "43 classes :  ['HR_related_problem', 'Location', 'Weather', 'about', 'appointment status', 'cabin', 'check_leave', 'commission', 'competitors_in_market', 'configuration', 'connect_people', 'cost_lowering', 'customer_satisfaction', 'domain', 'email_id', 'factors_impacting_sale', 'forgot_password', 'gadgets', 'goodbye', 'greeting', 'highest_grossing', 'hours', 'invalid', 'key_customers', 'leave', 'maintainence', 'manufacturing_problems', 'missing_id', 'name', 'noans', 'options', 'order_components', 'order_tracking', 'predict_delay', 'predict_performance', 'project_handling_queries', 'search_department', 'search_person_by_id', 'solve_problems', 'supplier_info', 'thanks', 'turnover', 'version_update']\n",
      "\n",
      "224 unique stemmed words :  [\"'s\", ',', '.', '23a12', '23a31', '32712', '345a23', '431b67', '561a24', '562b78', 'a', 'abc', 'abx', 'accid', 'ai', 'am', 'an', 'and', 'anyon', 'appoint', 'appoit', 'ar', 'at', 'awesom', 'bas', 'be', 'been', 'benefit', 'bhat', 'bor', 'bye', 'cabin', 'cafet', 'cal', 'can', 'canteen', 'challeng', 'chang', 'chat', 'clar', 'clear', 'commit', 'comp', 'company', 'complaint', 'compon', 'compr', 'comput', 'config', 'conflict', 'cost', 'could', 'custom', 'dat', 'day', 'delay', 'delivery', 'demand', 'depart', 'design', 'desktop', 'develop', 'do', 'doe', 'doing', 'domain', 'each', 'employ', 'ev', 'fact', 'feedback', 'find', 'fix', 'for', 'forget', 'forgot', 'from', 'gadget', 'gmail.com', 'good', 'goodby', 'gross', 'guid', 'handl', 'happy', 'has', 'hav', 'head', 'hello', 'help', 'hey', 'hi', 'highest', 'hol', 'hour', 'how', 'hr/it/projects', 'i', 'id', 'impact', 'improv', 'in', 'inform', 'insufficy', 'is', 'issu', 'it', 'job', 'key', 'kiit.ac.in', 'know', 'knowledg', 'kum', 'lack', 'laptop', 'last', 'lat', 'leav', 'leg', 'lik', 'list', 'loc', 'login', 'lov', 'low', 'mad', 'maintain', 'man', 'manod', 'manufact', 'market', 'marry', 'me', 'meet', 'memb', 'michel', 'miscommun', 'my', 'nam', 'nand', 'nearby', 'nee', 'next', 'nic', 'not', 'occ', 'of', 'off', 'on', 'op', 'ord', 'our', 'password', 'plan', 'pre', 'problem', 'produc', 'profit', 'project', 'provid', 'query', 'rai', 'rakesh', 'rat', 'record', 'rel', 'resolv', 'respon', 'risk', 'roy', 'sal', 'see', 'set', 'shantanu', 'shar', 'sharm', 'should', 'siddhart', 'skil', 'softw', 'someon', 'spec', 'step', 'stock', 'suj', 'supply', 'target', 'team', 'thank', 'that', 'the', 'ther', 'thi', 'threats', 'til', 'tim', 'to', 'today', 'track', 'train', 'turnov', 'upd', 'urg', 'us', 'vary', 'vert', 'vp', 'want', 'was', 'we', 'wea', 'what', 'when', 'wher', 'which', 'who', 'why', 'wif', 'with', 'work', 'workforc', 'year', 'yo', 'you']\n"
     ]
    }
   ],
   "source": [
    "# stemming,lowering and removing duplicates\n",
    "\n",
    "words = [stemmer.stem(w.lower()) for w in words if w not in ignore]\n",
    "words = sorted(list(set(words)))\n",
    "\n",
    "classes = sorted(list(set(classes)))\n",
    "\n",
    "print (len(documents), \"documents : \",documents)\n",
    "print('')\n",
    "print (len(classes), \"classes : \", classes)\n",
    "print('')\n",
    "print (len(words), \"unique stemmed words : \", words)"
   ]
  },
  {
   "cell_type": "code",
   "execution_count": 15,
   "id": "1aea460d",
   "metadata": {},
   "outputs": [],
   "source": [
    "# creating training set and bag of models\n",
    "\n",
    "training = []\n",
    "output = []\n",
    "output_empty = [0] * len(classes)\n",
    "\n",
    "for doc in documents:\n",
    "    bag = []\n",
    "    pattern_words = doc[0]\n",
    "    pattern_words = [stemmer.stem(word.lower()) for word in pattern_words]\n",
    "    for w in words:\n",
    "        bag.append(1) if w in pattern_words else bag.append(0)\n",
    "\n",
    "    # output is a '0' for each tag and '1' for current tag\n",
    "    output_row = list(output_empty)\n",
    "    output_row[classes.index(doc[1])] = 1\n",
    "\n",
    "    training.append([bag, output_row])"
   ]
  },
  {
   "cell_type": "code",
   "execution_count": null,
   "id": "db5f9fb9",
   "metadata": {},
   "outputs": [],
   "source": []
  },
  {
   "cell_type": "code",
   "execution_count": null,
   "id": "31c23988",
   "metadata": {},
   "outputs": [],
   "source": []
  },
  {
   "cell_type": "code",
   "execution_count": null,
   "id": "0e2fd365",
   "metadata": {},
   "outputs": [],
   "source": []
  },
  {
   "cell_type": "code",
   "execution_count": null,
   "id": "51a787c5",
   "metadata": {},
   "outputs": [],
   "source": []
  },
  {
   "cell_type": "code",
   "execution_count": null,
   "id": "00386762",
   "metadata": {},
   "outputs": [],
   "source": []
  },
  {
   "cell_type": "code",
   "execution_count": null,
   "id": "b22c2cac",
   "metadata": {},
   "outputs": [],
   "source": []
  },
  {
   "cell_type": "code",
   "execution_count": null,
   "id": "c3ee9e8d",
   "metadata": {},
   "outputs": [],
   "source": []
  },
  {
   "cell_type": "code",
   "execution_count": null,
   "id": "47546c1e",
   "metadata": {},
   "outputs": [],
   "source": [
    "        self.patterns=[]\n",
    "        \n",
    "        for i in self.intents:\n",
    "            temp=[]\n",
    "            if 'patterns' in i:\n",
    "                temp+=i['patterns']\n",
    "            self.patterns.append(temp) \n",
    "        \n",
    "        self.words=list(map(word_tokenize,flatten(self.patterns)))\n",
    "        self.classes= flatten( [[x[\"tag\"]]*len(y) for x,y in zip(self.intents,self.patterns)])\n",
    "        self.documents=list(map(lambda x,y:(x,y),self.words,self.classes))\n",
    "        self.words=list(map(lemma.lemmatize,self.words))\n",
    "        self.words=list(map(str.lower,flatten(self.words)))\n",
    "        self.words=list(filter(lambda x:x not in self.ignore_words,self.words))\n",
    "        self.words=list(map(lemmatizer.lemmatize,self.words))\n",
    "        self.words=sorted(list(set(self.words)))\n",
    "        self.classes=sorted(list(set(self.classes)))"
   ]
  },
  {
   "cell_type": "code",
   "execution_count": null,
   "id": "d02cdb55",
   "metadata": {},
   "outputs": [],
   "source": [
    "v=CountVectorizer(tokenizer=lambda txt: \n",
    "        txt.split(),analyzer=\"word\",stop_words=None)\n",
    "        training=[]\n",
    "        for doc in self.documents:\n",
    "            pattern_words=list(map(str.lower,doc[0]))\n",
    "            pattern_words=' '.join(list(map(lemma.lemmatize,pattern_words)))\n",
    "        \n",
    "        "
   ]
  },
  {
   "cell_type": "code",
   "execution_count": null,
   "id": "1a79fefc",
   "metadata": {},
   "outputs": [],
   "source": []
  },
  {
   "cell_type": "code",
   "execution_count": null,
   "id": "ddefb863",
   "metadata": {},
   "outputs": [],
   "source": []
  },
  {
   "cell_type": "code",
   "execution_count": null,
   "id": "97c49733",
   "metadata": {},
   "outputs": [],
   "source": [
    "pattern=list(map(lambda x:x[\"patterns\"],intents))\n",
    "words=list(map(word_tokenize,flatten(pattern)))\n",
    "classes= flatten( [[x[\"tag\"]]*len(y) for x,y in zip(intents,pattern)])\n",
    "documents=list(map(lambda x,y:(x,y),words,classes))\n",
    "words=list(map(str.lower,flatten(words)))\n",
    "ignore=['!','@','#','$','%','^','&','*','?']\n",
    "words=list(filter(lambda x:x not in ignore,words))\n",
    "words=list(map(lemma.lemmatize,words))\n",
    "words=sorted(list(set(words)))\n",
    "classes=sorted(list(set(classes)))"
   ]
  },
  {
   "cell_type": "code",
   "execution_count": null,
   "id": "fde14cfb",
   "metadata": {},
   "outputs": [],
   "source": []
  }
 ],
 "metadata": {
  "kernelspec": {
   "display_name": "Python 3 (ipykernel)",
   "language": "python",
   "name": "python3"
  },
  "language_info": {
   "codemirror_mode": {
    "name": "ipython",
    "version": 3
   },
   "file_extension": ".py",
   "mimetype": "text/x-python",
   "name": "python",
   "nbconvert_exporter": "python",
   "pygments_lexer": "ipython3",
   "version": "3.10.4"
  }
 },
 "nbformat": 4,
 "nbformat_minor": 5
}
