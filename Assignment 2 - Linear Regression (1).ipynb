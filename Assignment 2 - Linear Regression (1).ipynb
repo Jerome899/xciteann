{
 "cells": [
  {
   "cell_type": "code",
   "execution_count": 57,
   "id": "f69664f0",
   "metadata": {},
   "outputs": [
    {
     "name": "stdout",
     "output_type": "stream",
     "text": [
      "Enter x : 1\n",
      "Enter y : 2\n",
      "Do you want to stop : no\n",
      "Enter x : 3\n",
      "Enter y : 6\n",
      "Do you want to stop : no\n",
      "Enter x : 5\n",
      "Enter y : 10\n",
      "Do you want to stop : no\n",
      "Enter x : 7\n",
      "Enter y : 14\n",
      "Do you want to stop : no\n",
      "Enter x : 9\n",
      "Enter y : 18\n",
      "Do you want to stop : n\n"
     ]
    }
   ],
   "source": [
    "#collecting data\n",
    "x=[]\n",
    "y=[]\n",
    "while 1!=0:\n",
    "    p=int(input('Enter x : '))\n",
    "    q=int(input('Enter y : '))\n",
    "    x.append(p)\n",
    "    y.append(q)\n",
    "    v=input('Do you want to stop : ')\n",
    "    if v=='n':\n",
    "        break"
   ]
  },
  {
   "cell_type": "code",
   "execution_count": 67,
   "id": "3d9123fe",
   "metadata": {},
   "outputs": [
    {
     "name": "stdout",
     "output_type": "stream",
     "text": [
      "[1, 3, 5, 7, 9] [2, 6, 10, 14, 18]\n"
     ]
    }
   ],
   "source": [
    "# hypothesis equation\n",
    "def h(a,b):\n",
    "    x=int(input('Enter the number :'))\n",
    "    print(a*x+b)   \n",
    "print(x,y)"
   ]
  },
  {
   "cell_type": "code",
   "execution_count": 70,
   "id": "6b7a49bc",
   "metadata": {},
   "outputs": [
    {
     "name": "stdout",
     "output_type": "stream",
     "text": [
      "Enter the number :50\n",
      "98.07692307692298\n",
      "None\n"
     ]
    }
   ],
   "source": [
    "# cost function and gradient descent\n",
    "def pred(x,y):\n",
    "    a=0\n",
    "    b=0\n",
    "    s=0\n",
    "    l=0.01\n",
    "    for i in range(0,1000,1): \n",
    "        s=a*sum(x)+b-sum(y)\n",
    "        a=a-(l*s)/len(x)\n",
    "        b=b-(l*s)/len(x)\n",
    "    o=[a,b]\n",
    "    return o\n",
    "\n",
    "o=pred(x,y)\n",
    "print(h(o[0],o[1]))"
   ]
  },
  {
   "cell_type": "code",
   "execution_count": null,
   "id": "e014dd62",
   "metadata": {},
   "outputs": [],
   "source": []
  }
 ],
 "metadata": {
  "kernelspec": {
   "display_name": "Python 3 (ipykernel)",
   "language": "python",
   "name": "python3"
  },
  "language_info": {
   "codemirror_mode": {
    "name": "ipython",
    "version": 3
   },
   "file_extension": ".py",
   "mimetype": "text/x-python",
   "name": "python",
   "nbconvert_exporter": "python",
   "pygments_lexer": "ipython3",
   "version": "3.10.4"
  }
 },
 "nbformat": 4,
 "nbformat_minor": 5
}
